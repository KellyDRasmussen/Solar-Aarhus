{
 "cells": [
  {
   "cell_type": "markdown",
   "id": "4a256d63-08f3-4a64-9dd8-cb897e87123c",
   "metadata": {},
   "source": [
    "# Solar for Aarhus\n",
    "## Can we get solar panels on every school and daycare roof in Aarhus Kommune?"
   ]
  },
  {
   "cell_type": "code",
   "execution_count": 1,
   "id": "9006cef6-d8dd-493b-82b9-db6152e42e0b",
   "metadata": {},
   "outputs": [],
   "source": [
    "\n",
    "import pandas as pd\n",
    "schools = pd.read_csv(\"../data/raw/skoler.csv\") #list of schools in Aarhus Kommune\n",
    "panels = pd.read_csv(\"../data/raw/metadata.csv\") #list of panels in Aarhus Kommune"
   ]
  },
  {
   "cell_type": "code",
   "execution_count": 2,
   "id": "5dbd988b-1df6-4aee-9e28-a640defa640b",
   "metadata": {},
   "outputs": [],
   "source": [
    "panels.columns = panels.columns.str.strip()"
   ]
  },
  {
   "cell_type": "code",
   "execution_count": 3,
   "id": "741e4f79-b20a-497d-b1ab-2848d8501643",
   "metadata": {},
   "outputs": [],
   "source": [
    "#sample = pd.read_csv(\"../data/raw/aktuel.csv\") #not used yet. Data about how much power is produced"
   ]
  },
  {
   "cell_type": "markdown",
   "id": "f02712e4-5084-4e20-bdf9-3570710f5dd3",
   "metadata": {},
   "source": [
    "# All Department of Children and Young People (MBU) properties with Solar Panels\n",
    "Preliminary information gathering"
   ]
  },
  {
   "cell_type": "code",
   "execution_count": 4,
   "id": "f4427eb1-a02a-4917-b2a2-bcae9aa90097",
   "metadata": {},
   "outputs": [],
   "source": [
    "panels.drop(columns=['_id', 'date'], inplace=True) #take out unneeded columns"
   ]
  },
  {
   "cell_type": "code",
   "execution_count": 5,
   "id": "c3381044-15ef-45d8-8fb1-765f57b58303",
   "metadata": {},
   "outputs": [],
   "source": [
    "panels['magistrat'] = panels['magistrat'].str.strip() #strip whitespace for later merge\n",
    "panels['location'] = panels['location'].str.strip()\n",
    "panels.loc[:, 'location'] = panels['location'].str.strip() #take out whitespace\n",
    "panels.loc[:, 'sid'] = panels['sid'].astype(int)#change SID to integer"
   ]
  },
  {
   "cell_type": "code",
   "execution_count": 6,
   "id": "5dc81ac7-1ca1-4c0a-a806-05f40c2a6dc6",
   "metadata": {},
   "outputs": [],
   "source": [
    "MBU_panels = panels.loc[panels['magistrat'] == 'MBU'] #filter for MBU panels"
   ]
  },
  {
   "cell_type": "code",
   "execution_count": 7,
   "id": "de64b765-c799-4e10-86e0-88b5023bb259",
   "metadata": {},
   "outputs": [
    {
     "name": "stderr",
     "output_type": "stream",
     "text": [
      "/var/folders/hf/6hb2wp2j1fn707lw10cw1t4h0000gn/T/ipykernel_76847/2767539301.py:1: SettingWithCopyWarning: \n",
      "A value is trying to be set on a copy of a slice from a DataFrame\n",
      "\n",
      "See the caveats in the documentation: https://pandas.pydata.org/pandas-docs/stable/user_guide/indexing.html#returning-a-view-versus-a-copy\n",
      "  MBU_panels.drop(columns=['magistrat'], inplace=True)\n"
     ]
    }
   ],
   "source": [
    "MBU_panels.drop(columns=['magistrat'], inplace=True)\n",
    "# MBU_panels.head() # debug"
   ]
  },
  {
   "cell_type": "markdown",
   "id": "65c1ce2a-1117-444b-95f5-f22bcb30e820",
   "metadata": {},
   "source": [
    "# Data Collection\n",
    "## Which schools have solar panels already? \n",
    "Data from opendata.dk. Combining schools data with panels data."
   ]
  },
  {
   "cell_type": "code",
   "execution_count": 8,
   "id": "e2110305-d814-475f-b9e8-b96ff7c8717f",
   "metadata": {},
   "outputs": [],
   "source": [
    "schools.drop(columns=['_id', 'Periode', 'Adresse', 'Postnr', 'Skolekode', 'Antal', 'LINK', 'Ledernavn', 'Ledermail', 'Opdateret'], inplace=True)\n",
    "schools['Skolenavn'] = schools['Skolenavn'].str.strip()"
   ]
  },
  {
   "cell_type": "code",
   "execution_count": 9,
   "id": "46481331-6eef-4482-b20e-8a3782b13e3d",
   "metadata": {},
   "outputs": [
    {
     "name": "stderr",
     "output_type": "stream",
     "text": [
      "/var/folders/hf/6hb2wp2j1fn707lw10cw1t4h0000gn/T/ipykernel_76847/4113839958.py:7: SettingWithCopyWarning: \n",
      "A value is trying to be set on a copy of a slice from a DataFrame.\n",
      "Try using .loc[row_indexer,col_indexer] = value instead\n",
      "\n",
      "See the caveats in the documentation: https://pandas.pydata.org/pandas-docs/stable/user_guide/indexing.html#returning-a-view-versus-a-copy\n",
      "  MBU_panels.loc[:, 'normalized_name'] = MBU_panels.loc[:,'location'].apply(normalize_school_name)\n"
     ]
    }
   ],
   "source": [
    "# Normalise the school names\n",
    "def normalize_school_name(name):\n",
    "    return name.lower().replace(' ', '').replace('skolen', 'skole').strip()\n",
    "\n",
    "\n",
    "# Normalize the school names in both DataFrames\n",
    "MBU_panels.loc[:, 'normalized_name'] = MBU_panels.loc[:,'location'].apply(normalize_school_name)\n",
    "schools.loc[:, 'normalized_name'] = schools['Skolenavn'].apply(normalize_school_name)"
   ]
  },
  {
   "cell_type": "code",
   "execution_count": 19,
   "id": "208da620-c806-40c4-aeec-109fe589a32c",
   "metadata": {},
   "outputs": [
    {
     "data": {
      "text/html": [
       "<div>\n",
       "<style scoped>\n",
       "    .dataframe tbody tr th:only-of-type {\n",
       "        vertical-align: middle;\n",
       "    }\n",
       "\n",
       "    .dataframe tbody tr th {\n",
       "        vertical-align: top;\n",
       "    }\n",
       "\n",
       "    .dataframe thead th {\n",
       "        text-align: right;\n",
       "    }\n",
       "</style>\n",
       "<table border=\"1\" class=\"dataframe\">\n",
       "  <thead>\n",
       "    <tr style=\"text-align: right;\">\n",
       "      <th></th>\n",
       "      <th>Skolenavn</th>\n",
       "      <th>lat</th>\n",
       "      <th>lng</th>\n",
       "      <th>Postdist</th>\n",
       "      <th>normalized_name</th>\n",
       "    </tr>\n",
       "  </thead>\n",
       "  <tbody>\n",
       "    <tr>\n",
       "      <th>0</th>\n",
       "      <td>Stensagerskolen</td>\n",
       "      <td>56.166771</td>\n",
       "      <td>10.137611</td>\n",
       "      <td>Brabrand</td>\n",
       "      <td>stensagerskole</td>\n",
       "    </tr>\n",
       "    <tr>\n",
       "      <th>1</th>\n",
       "      <td>Bakkegårdsskolen</td>\n",
       "      <td>56.253349</td>\n",
       "      <td>10.148964</td>\n",
       "      <td>Trige</td>\n",
       "      <td>bakkegårdsskole</td>\n",
       "    </tr>\n",
       "    <tr>\n",
       "      <th>2</th>\n",
       "      <td>Ellevangskolen</td>\n",
       "      <td>56.203037</td>\n",
       "      <td>10.217692</td>\n",
       "      <td>Risskov</td>\n",
       "      <td>ellevangskole</td>\n",
       "    </tr>\n",
       "    <tr>\n",
       "      <th>3</th>\n",
       "      <td>Beder Skole</td>\n",
       "      <td>56.061577</td>\n",
       "      <td>10.211610</td>\n",
       "      <td>Beder</td>\n",
       "      <td>bederskole</td>\n",
       "    </tr>\n",
       "    <tr>\n",
       "      <th>4</th>\n",
       "      <td>Elev Skole</td>\n",
       "      <td>56.241188</td>\n",
       "      <td>10.199622</td>\n",
       "      <td>Lystrup</td>\n",
       "      <td>elevskole</td>\n",
       "    </tr>\n",
       "  </tbody>\n",
       "</table>\n",
       "</div>"
      ],
      "text/plain": [
       "          Skolenavn        lat        lng  Postdist  normalized_name\n",
       "0   Stensagerskolen  56.166771  10.137611  Brabrand   stensagerskole\n",
       "1  Bakkegårdsskolen  56.253349  10.148964     Trige  bakkegårdsskole\n",
       "2    Ellevangskolen  56.203037  10.217692   Risskov    ellevangskole\n",
       "3       Beder Skole  56.061577  10.211610     Beder       bederskole\n",
       "4        Elev Skole  56.241188  10.199622   Lystrup        elevskole"
      ]
     },
     "execution_count": 19,
     "metadata": {},
     "output_type": "execute_result"
    }
   ],
   "source": [
    "schools.head() #debug"
   ]
  },
  {
   "cell_type": "code",
   "execution_count": 11,
   "id": "93782dc2-56c0-42e5-9c77-686369827eef",
   "metadata": {},
   "outputs": [],
   "source": [
    "#MBU_panels.head() #debug"
   ]
  },
  {
   "cell_type": "code",
   "execution_count": 12,
   "id": "50fca20f-f03b-44ad-b48a-2b51a588eb63",
   "metadata": {},
   "outputs": [],
   "source": [
    "# Merge the DataFrames to add a column indicating the presence of solar panels\n",
    "merged_df = schools.merge(MBU_panels, left_on='normalized_name', right_on='normalized_name', how='left', indicator=True)\n",
    "\n",
    "merged_df.loc[:, 'sid'] = merged_df['sid'].fillna(0).astype(int)#change SID to integer\n",
    "\n",
    "\n",
    "#print(merged_df) #debug"
   ]
  },
  {
   "cell_type": "code",
   "execution_count": 13,
   "id": "634ba8f6-1cb0-4d5d-a063-bd79fe7254c1",
   "metadata": {},
   "outputs": [],
   "source": [
    "\n",
    "# Replace NaN values with 0 in the 'sid' column and convert it to integer\n",
    "merged_df['sid'] = merged_df['sid'].astype(int)\n",
    "\n",
    "# Add a new column 'Has Solar' based on the merge indicator\n",
    "merged_df['Has Solar'] = merged_df['_merge'].apply(lambda x: 'Has solar' if x == 'both' else \"Doesn't have solar\")\n",
    "\n",
    "# Drop the merge indicator column\n",
    "merged_df = merged_df.drop(columns=['_merge', 'location'])\n",
    "\n",
    "# Separate the dataframes\n",
    "schools_with_solar = merged_df[merged_df['Has Solar'] == 'Has solar']\n",
    "schools_without_solar = merged_df[merged_df['Has Solar'] == \"Doesn't have solar\"]\n",
    "\n",
    "schools_without_solar = schools_without_solar.sort_values(by='Skolenavn') #alphabetise\n",
    "schools_with_solar=schools_with_solar.sort_values(by='Skolenavn')\n",
    "\n",
    "#Reset index for the resulting dataframes\n",
    "schools_with_solar.reset_index(drop=True, inplace=True)\n",
    "schools_without_solar.reset_index(drop=True, inplace=True)\n"
   ]
  },
  {
   "cell_type": "code",
   "execution_count": 21,
   "id": "e24276e1-50ef-4f8a-8ce6-3ef14904eaf7",
   "metadata": {},
   "outputs": [
    {
     "name": "stdout",
     "output_type": "stream",
     "text": [
      "               Skolenavn        lat        lng     Postdist    sid  \\\n",
      "0        Stensagerskolen  56.166771  10.137611     Brabrand      0   \n",
      "1       Bakkegårdsskolen  56.253349  10.148964        Trige  22224   \n",
      "2         Ellevangskolen  56.203037  10.217692      Risskov      0   \n",
      "3            Beder Skole  56.061577  10.211610        Beder      0   \n",
      "4             Elev Skole  56.241188  10.199622      Lystrup      0   \n",
      "5           Elsted Skole  56.241524  10.228948      Lystrup  60129   \n",
      "6           Engdalskolen  56.152943  10.109608     Brabrand      0   \n",
      "7     Gammelgaardsskolen  56.159332  10.157077       Åbyhøj      0   \n",
      "8            Sødalskolen  56.150375  10.136786     Brabrand      0   \n",
      "9            Hasle Skole  56.169296  10.163680     Aarhus V  16022   \n",
      "10        Bavnehøj Skole  56.106026  10.096877   Hasselager      0   \n",
      "11           Holme Skole  56.116238  10.178248     Højbjerg  16008   \n",
      "12         Højvangskolen  56.129898  10.115003       Viby J  54388   \n",
      "13    Katrinebjergskolen  56.173824  10.196321     Aarhus N  60131   \n",
      "14         Kaløvigskolen  56.260174  10.342974    Skødstrup      0   \n",
      "15       Kragelundskolen  56.115410  10.197737     Højbjerg  16018   \n",
      "16        Lisbjergskolen  56.218662  10.157976     Aarhus N  16019   \n",
      "17    Læssøesgades skole  56.146378  10.188354     Aarhus C      0   \n",
      "18         Malling Skole  56.039150  10.198192      Malling  16009   \n",
      "19       Møllevangskolen  56.164825  10.184485     Aarhus V      0   \n",
      "20         Mårslet Skole  56.068867  10.157019      Mårslet  16010   \n",
      "21  Frederiksbjerg skole  56.144764  10.198480     Aarhus C  41460   \n",
      "22         Risskov Skole  56.192966  10.229043      Risskov      0   \n",
      "23       Rosenvangskolen  56.131271  10.183323       Viby J  54449   \n",
      "24         Rundhøjskolen  56.118412  10.178171     Højbjerg  16020   \n",
      "25   Sabro-Korsvejskolen  56.211243  10.023426        Sabro  16023   \n",
      "26      Samsøgades Skole  56.162449  10.202540     Aarhus C      0   \n",
      "27        Skovvangskolen  56.175533  10.208733     Aarhus N      0   \n",
      "28       Skødstrup Skole  56.271587  10.308501    Skødstrup  16011   \n",
      "29           Skåde Skole  56.104164  10.207989     Højbjerg  16024   \n",
      "30        Solbjergskolen  56.042149  10.084158     Solbjerg  16014   \n",
      "31          Strandskolen  56.200199  10.244444      Risskov      0   \n",
      "32          Sølystskolen  56.211697  10.283297          Egå  16025   \n",
      "33      Søndervangskolen  56.111263  10.149488       Viby J  16016   \n",
      "34           Tilst Skole  56.189537  10.113276        Tilst  16012   \n",
      "35           Hårup Skole  56.288342  10.216692    Hjortshøj      0   \n",
      "36       Tranbjergskolen  56.090076  10.140480  Tranbjerg J      0   \n",
      "37     Vestergårdsskolen  56.129375  10.156499       Viby J      0   \n",
      "38            Viby Skole  56.127964  10.164447       Viby J  22229   \n",
      "39           Virupskolen  56.243191  10.272163    Hjortshøj      0   \n",
      "40       Vorrevangskolen  56.185951  10.199095     Aarhus N      0   \n",
      "41             Åby Skole  56.150635  10.164974       Åbyhøj      0   \n",
      "42          Næshøjskolen  56.146523   9.998808     Harlev J      0   \n",
      "43         Skæring Skole  56.226681  10.298241          Egå  16015   \n",
      "44       Skjoldhøjskolen  56.174107  10.113787        Tilst  16021   \n",
      "45         Lystrup Skole  56.236736  10.229774      Lystrup      0   \n",
      "46        Langagerskolen  56.118366  10.133548       Viby J      0   \n",
      "47        Netværksskolen  56.213264  10.171948     Aarhus N      0   \n",
      "48         Ellehøjskolen  56.169418  10.150394     Aarhus V      0   \n",
      "\n",
      "             Has Solar  \n",
      "0   Doesn't have solar  \n",
      "1            Has solar  \n",
      "2   Doesn't have solar  \n",
      "3   Doesn't have solar  \n",
      "4   Doesn't have solar  \n",
      "5            Has solar  \n",
      "6   Doesn't have solar  \n",
      "7   Doesn't have solar  \n",
      "8   Doesn't have solar  \n",
      "9            Has solar  \n",
      "10  Doesn't have solar  \n",
      "11           Has solar  \n",
      "12           Has solar  \n",
      "13           Has solar  \n",
      "14  Doesn't have solar  \n",
      "15           Has solar  \n",
      "16           Has solar  \n",
      "17  Doesn't have solar  \n",
      "18           Has solar  \n",
      "19  Doesn't have solar  \n",
      "20           Has solar  \n",
      "21           Has solar  \n",
      "22  Doesn't have solar  \n",
      "23           Has solar  \n",
      "24           Has solar  \n",
      "25           Has solar  \n",
      "26  Doesn't have solar  \n",
      "27  Doesn't have solar  \n",
      "28           Has solar  \n",
      "29           Has solar  \n",
      "30           Has solar  \n",
      "31  Doesn't have solar  \n",
      "32           Has solar  \n",
      "33           Has solar  \n",
      "34           Has solar  \n",
      "35  Doesn't have solar  \n",
      "36  Doesn't have solar  \n",
      "37  Doesn't have solar  \n",
      "38           Has solar  \n",
      "39  Doesn't have solar  \n",
      "40  Doesn't have solar  \n",
      "41  Doesn't have solar  \n",
      "42  Doesn't have solar  \n",
      "43           Has solar  \n",
      "44           Has solar  \n",
      "45  Doesn't have solar  \n",
      "46  Doesn't have solar  \n",
      "47  Doesn't have solar  \n",
      "48  Doesn't have solar  \n"
     ]
    }
   ],
   "source": [
    "merged_df = merged_df.drop(columns=['normalized_name'])\n",
    "print(merged_df)"
   ]
  },
  {
   "cell_type": "markdown",
   "id": "899f6883-aa29-4dce-b4f0-914268b09a89",
   "metadata": {},
   "source": [
    "## Daycares"
   ]
  },
  {
   "cell_type": "code",
   "execution_count": 15,
   "id": "83cc996e-265c-4a86-9bcf-43878cfd43b5",
   "metadata": {},
   "outputs": [
    {
     "name": "stdout",
     "output_type": "stream",
     "text": [
      "      sid                 location\n",
      "1   54399            Ajstrupvej 49\n",
      "3   60127            Ellekærskolen\n",
      "6   16017         Gammelgårdskolen\n",
      "10  57123       Indelukket 20 (KF)\n",
      "11  54409             Indelukket 5\n",
      "12  54374          Jernaldervej 3A\n",
      "13  54386          Kantorvænget 33\n",
      "16  57120    L.A.Rings Vej 56 (KF)\n",
      "17  54376          Lindenborgvej 7\n",
      "21  57117  Møllevangs alle 20 (KF)\n",
      "22  54392             Nygårdsvej 5\n",
      "23  54403     Pilegårdsvej 95 (BM)\n",
      "32  54280     Strandvejen  38 (BM)\n",
      "36  16013         Vestergårdskolen\n",
      "38    298           Vidtskuevej 25\n"
     ]
    },
    {
     "name": "stderr",
     "output_type": "stream",
     "text": [
      "/var/folders/hf/6hb2wp2j1fn707lw10cw1t4h0000gn/T/ipykernel_76847/2101282922.py:4: SettingWithCopyWarning: \n",
      "A value is trying to be set on a copy of a slice from a DataFrame\n",
      "\n",
      "See the caveats in the documentation: https://pandas.pydata.org/pandas-docs/stable/user_guide/indexing.html#returning-a-view-versus-a-copy\n",
      "  daycare_locations.drop(columns=['normalized_name'], inplace=True)\n"
     ]
    }
   ],
   "source": [
    "# Filter out the schools with solar panels from the MBU panels DataFrame\n",
    "daycare_locations = MBU_panels[~MBU_panels['normalized_name'].isin(schools_with_solar['normalized_name'])]\n",
    "\n",
    "daycare_locations.drop(columns=['normalized_name'], inplace=True)\n",
    "# Display the resulting DataFrame\n",
    "print(daycare_locations)"
   ]
  },
  {
   "cell_type": "code",
   "execution_count": 16,
   "id": "80b3c5c9-a112-47a5-acaa-49325aed470f",
   "metadata": {},
   "outputs": [],
   "source": [
    "#print(schools_with_solar)\n",
    "schools_with_solar.drop(columns=['normalized_name'], inplace=True)\n",
    "schools_without_solar.drop(columns=['normalized_name'], inplace=True)\n"
   ]
  },
  {
   "cell_type": "code",
   "execution_count": 17,
   "id": "a748f442-3cd7-4d41-8422-58fa6693c132",
   "metadata": {},
   "outputs": [],
   "source": [
    "schools_with_solar.to_csv(\"../data/processed/schools_with_solar.csv\", index=False)\n",
    "schools_without_solar.to_csv(\"../data/processed/schools_without_solar.csv\", index=False)\n"
   ]
  },
  {
   "cell_type": "code",
   "execution_count": 22,
   "id": "c74395c6-ad2e-4ba3-8300-c841cc0e57de",
   "metadata": {},
   "outputs": [],
   "source": [
    "merged_df.to_csv(\"../data/processed/schools.csv\", index=False)"
   ]
  },
  {
   "cell_type": "code",
   "execution_count": 18,
   "id": "083aeed4-0d43-481e-9e70-5c6a847847c3",
   "metadata": {},
   "outputs": [],
   "source": [
    "MBU_panels = MBU_panels.sort_values(by='location') #alphabetise\n",
    "#print(MBU_panels)"
   ]
  },
  {
   "cell_type": "markdown",
   "id": "fda068e3-327a-4071-962a-67c1889b3bec",
   "metadata": {},
   "source": [
    "# API for querying \"aktuel\"\n",
    "## Query example (first 5 results):\n",
    "\n",
    "https://admin.opendata.dk/api/3/action/datastore_search?resource_id=251528ca-8ec9-4b70-9960-83c4d0c4e7b6 &limit=5\n",
    "\n",
    "## Query example (results containing \"jones\"):\n",
    "\n",
    "https://admin.opendata.dk/api/3/action/datastore_search?q=jones&resource_id=251528ca-8ec9-4b70-9960-83c4d0c4e7b6\n",
    "\n",
    "## Query example (via SQL statement):\n",
    "\n",
    "https://admin.opendata.dk/api/3/action/datastore_search_sql?sql=SELECT * from \"251528ca-8ec9-4b70-9960-83c4d0c4e7b6\" WHERE title LIKE 'jones'\n"
   ]
  },
  {
   "cell_type": "markdown",
   "id": "b02c0936-2f01-446c-91e5-e7af43f112bc",
   "metadata": {},
   "source": [
    "# Querying API for produktion\n",
    "\n",
    "## Query example (first 5 results):\n",
    "\n",
    "https://admin.opendata.dk/api/3/action/datastore_search?resource_id=3028c112-a089-474d-a9c1-73d1c8352fca &limit=5\n",
    "\n",
    "## Query example (results containing \"jones\"):\n",
    "\n",
    "https://admin.opendata.dk/api/3/action/datastore_search?q=jones&resource_id=3028c112-a089-474d-a9c1-73d1c8352fca\n",
    "\n",
    "## Query example (via SQL statement):\n",
    "\n",
    "https://admin.opendata.dk/api/3/action/datastore_search_sql?sql=SELECT * from \"3028c112-a089-474d-a9c1-73d1c8352fca\" WHERE title LIKE 'jones'"
   ]
  },
  {
   "cell_type": "code",
   "execution_count": null,
   "id": "62fcc41e-faee-4c3e-85e0-9ac681a05b27",
   "metadata": {},
   "outputs": [],
   "source": []
  }
 ],
 "metadata": {
  "kernelspec": {
   "display_name": "Python 3 (ipykernel)",
   "language": "python",
   "name": "python3"
  },
  "language_info": {
   "codemirror_mode": {
    "name": "ipython",
    "version": 3
   },
   "file_extension": ".py",
   "mimetype": "text/x-python",
   "name": "python",
   "nbconvert_exporter": "python",
   "pygments_lexer": "ipython3",
   "version": "3.11.7"
  }
 },
 "nbformat": 4,
 "nbformat_minor": 5
}
